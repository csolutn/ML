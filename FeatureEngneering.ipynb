{
  "nbformat": 4,
  "nbformat_minor": 0,
  "metadata": {
    "colab": {
      "provenance": [],
      "authorship_tag": "ABX9TyO5zHpoF0bmAQCNMkKoLup3",
      "include_colab_link": true
    },
    "kernelspec": {
      "name": "python3",
      "display_name": "Python 3"
    },
    "language_info": {
      "name": "python"
    }
  },
  "cells": [
    {
      "cell_type": "markdown",
      "metadata": {
        "id": "view-in-github",
        "colab_type": "text"
      },
      "source": [
        "<a href=\"https://colab.research.google.com/github/csolutn/ML/blob/main/FeatureEngneering.ipynb\" target=\"_parent\"><img src=\"https://colab.research.google.com/assets/colab-badge.svg\" alt=\"Open In Colab\"/></a>"
      ]
    },
    {
      "cell_type": "code",
      "execution_count": null,
      "metadata": {
        "id": "qDR5wW_yACK7"
      },
      "outputs": [],
      "source": [
        "from sklearn.linear_model import LinearRegression\n",
        "import numpy as np\n",
        "import matplotlib.pyplot as plt"
      ]
    },
    {
      "cell_type": "code",
      "source": [
        "# https://bit.ly/perch_csv_data 의 csv 데이터셋 불러오기 pandas / read_csv\n",
        "\n",
        "# 불러온 데이터프레임의 10행까지의 데이터 확인\n"
      ],
      "metadata": {
        "id": "njfx6CAmALES"
      },
      "execution_count": null,
      "outputs": []
    },
    {
      "cell_type": "code",
      "source": [
        "# 타깃 데이터 준비 (http://bit.ly/perch_data)\n",
        "\n",
        "perch_weight = np.array([5.9, 32.0, 40.0, 51.5, 70.0, 100.0, 78.0, 80.0, 85.0, 85.0, 110.0,\n",
        "115.0, 125.0, 130.0, 120.0, 120.0, 130.0, 135.0, 110.0, 130.0,\n",
        "150.0, 145.0, 150.0, 170.0, 225.0, 145.0, 188.0, 180.0, 197.0,\n",
        "218.0, 300.0, 260.0, 265.0, 250.0, 250.0, 300.0, 320.0, 514.0,\n",
        "556.0, 840.0, 685.0, 700.0, 700.0, 690.0, 900.0, 650.0, 820.0,\n",
        "850.0, 900.0, 1015.0, 820.0, 1100.0, 1000.0, 1100.0, 1000.0,\n",
        "1000.0])"
      ],
      "metadata": {
        "id": "n-gHhfugAj7J"
      },
      "execution_count": null,
      "outputs": []
    },
    {
      "cell_type": "code",
      "source": [
        "# 훈련세트와 테스트 세트로 나누기 sklearn.model_selection / train_test_spilt\n",
        "# ramdom_state = 42\n"
      ],
      "metadata": {
        "id": "9O0cjBTnAvY-"
      },
      "execution_count": null,
      "outputs": []
    },
    {
      "cell_type": "code",
      "source": [
        "# 다항특성 추가 sklearn.preprocessing / PolynomialFeatures\n"
      ],
      "metadata": {
        "id": "bAzvJhmlAzzS"
      },
      "execution_count": null,
      "outputs": []
    },
    {
      "cell_type": "code",
      "source": [
        "# 다중-다항 회귀 모델 훈련하기 sklearn.linear_model / LinearRegression\n"
      ],
      "metadata": {
        "id": "UYTaH8JZBRz1"
      },
      "execution_count": null,
      "outputs": []
    },
    {
      "cell_type": "code",
      "source": [
        "# 특성 개수에 따른 과대적합 문제 PolynomialFeatures(degree = 5)\n"
      ],
      "metadata": {
        "id": "beINnAZHCTz-"
      },
      "execution_count": null,
      "outputs": []
    },
    {
      "cell_type": "code",
      "source": [
        "# 결과 확인 lr.score"
      ],
      "metadata": {
        "id": "_Ja4uXbDIRvL"
      },
      "execution_count": null,
      "outputs": []
    },
    {
      "cell_type": "code",
      "source": [
        "# 공정한 제어를 위한 정규화 sklearn.preprocessing / StandardScaler"
      ],
      "metadata": {
        "id": "bf8Z9NWwJNGh"
      },
      "execution_count": null,
      "outputs": []
    },
    {
      "cell_type": "code",
      "source": [
        "# 릿지회귀 sklear.linear_model / Ridge\n"
      ],
      "metadata": {
        "id": "w6jMJax_J-Sn"
      },
      "execution_count": null,
      "outputs": []
    },
    {
      "cell_type": "code",
      "source": [
        "# alpha값에 따른 train_score와 test_score 관찰\n"
      ],
      "metadata": {
        "id": "eP1rTeRWLgsW"
      },
      "execution_count": null,
      "outputs": []
    },
    {
      "cell_type": "code",
      "source": [
        "# 릿지회귀 최종 결과 출력\n"
      ],
      "metadata": {
        "id": "2DMqfHeFNkHh"
      },
      "execution_count": null,
      "outputs": []
    }
  ]
}