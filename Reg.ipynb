{
  "cells": [
    {
      "cell_type": "markdown",
      "metadata": {
        "id": "view-in-github",
        "colab_type": "text"
      },
      "source": [
        "<a href=\"https://colab.research.google.com/github/csolutn/ML/blob/main/Reg.ipynb\" target=\"_parent\"><img src=\"https://colab.research.google.com/assets/colab-badge.svg\" alt=\"Open In Colab\"/></a>"
      ]
    },
    {
      "cell_type": "code",
      "execution_count": null,
      "metadata": {
        "id": "B4EUJyq89jru"
      },
      "outputs": [],
      "source": [
        "from sklearn.linear_model import LinearRegression\n",
        "import numpy as np\n",
        "import matplotlib.pyplot as plt"
      ]
    },
    {
      "cell_type": "markdown",
      "metadata": {
        "id": "VhJ8229m9jrz"
      },
      "source": [
        "# 선형회귀\n",
        "![image.png](http://epsilondelt4.dothome.co.kr/img/lin.png)\n",
        "# 다항회귀\n",
        "![image-2.png](http://epsilondelt4.dothome.co.kr/img/quad.png)"
      ]
    },
    {
      "cell_type": "markdown",
      "metadata": {
        "id": "iwfPkUqn9jr0"
      },
      "source": [
        "# 특성공학 (Features Engineering)\n",
        "기존 속성으로 부터 새로운 속성을 뽑아내어 입력 속성에 추가하는 작업\n",
        "* '농어 길이' ---> 농어 길이' $^2$ , '농어길이'$^3$\n",
        "* '농어 길이', '농어 높이' ---> '농어 길이 x 농어 높이'\n",
        "* 다른 예?\n",
        "\n",
        "\n",
        "다항 속성 추가 : 사이킷런 PolyFeatures() 변환기 사용\n",
        "\n",
        "## 사이킷런의 변환기(transformer) 클래스\n",
        "* sklearn.preprocessing 라이브러리에 포함\n",
        "* .fit() : 변환 준비 (데이터 구조 파악)\n",
        "* .tarnsform() : 변환 실행\n",
        "* 변환기 PolynomialFeatures 매개 변수\n",
        "    * include_bias\n",
        "    * degree*"
      ]
    },
    {
      "cell_type": "code",
      "execution_count": null,
      "metadata": {
        "id": "CaHoDrRc9jr0",
        "outputId": "1eccede1-1c89-4e01-d25b-0d5688904b75",
        "colab": {
          "base_uri": "https://localhost:8080/",
          "height": 445
        }
      },
      "outputs": [
        {
          "output_type": "display_data",
          "data": {
            "text/plain": [
              "<Figure size 500x500 with 1 Axes>"
            ],
            "image/png": "[encoded data removed]"
          },
          "metadata": {}
        }
      ],
      "source": [
        "data_x = np.arange(0, 4) #[0, 1, 2, 3]\n",
        "data_y = data_x**2+1 #[0, 2, 5, 10]\n",
        "\n",
        "test_x = [4, 5]\n",
        "test_y = [17, 26]\n",
        "\n",
        "data_x = data_x.reshape(-1,1)\n",
        "data_y = data_y.reshape(-1,1)\n",
        "\n",
        "plt.scatter(data_x, data_y, c = 'red')\n",
        "plt.scatter([4], [17], marker='^', c = 'gold')\n",
        "plt.scatter([5], [26], marker='^', c = 'gold')\n",
        "plt.show()"
      ]
    },
    {
      "cell_type": "code",
      "execution_count": null,
      "metadata": {
        "id": "tIOSePoU9jr2",
        "outputId": "64c0f6f8-4481-4d3b-bc38-86770e9e624d",
        "colab": {
          "base_uri": "https://localhost:8080/"
        }
      },
      "outputs": [
        {
          "output_type": "stream",
          "name": "stdout",
          "text": [
            "선형회귀의 input  [[x]]\n",
            "[[0]\n",
            " [1]\n",
            " [2]\n",
            " [3]]\n",
            "\n",
            " 다항회귀의 input  [[x, x**2]]\n",
            "[[0 0]\n",
            " [1 1]\n",
            " [2 4]\n",
            " [3 9]]\n"
          ]
        }
      ],
      "source": [
        "# 기존 방법\n",
        "poly_x = np.column_stack((data_x, data_x**2))\n",
        "\n",
        "print('선형회귀의 input  [[x]]')\n",
        "print(data_x)\n",
        "print('\\n 다항회귀의 input  [[x, x**2]]')\n",
        "print(poly_x)"
      ]
    },
    {
      "cell_type": "code",
      "execution_count": null,
      "metadata": {
        "id": "jyaJDc_q9jr2",
        "outputId": "70c08953-c79c-4a17-f21e-533851c77dbc",
        "colab": {
          "base_uri": "https://localhost:8080/"
        }
      },
      "outputs": [
        {
          "output_type": "stream",
          "name": "stdout",
          "text": [
            "[[1. 0. 0.]\n",
            " [1. 1. 1.]\n",
            " [1. 2. 4.]\n",
            " [1. 3. 9.]]\n"
          ]
        }
      ],
      "source": [
        "# x^2을 속성에 포함하도록 전처리 (자료형태 예[2] -> [2, 4])\n",
        "from sklearn.preprocessing import PolynomialFeatures\n",
        "\n",
        "poly = PolynomialFeatures()\n",
        "poly.fit(data_x) # 변환준비 (데이터의 속성 파악)\n",
        "poly_x = poly.transform(data_x) #변환\n",
        "\n",
        "print(poly_x)"
      ]
    },
    {
      "cell_type": "code",
      "execution_count": null,
      "metadata": {
        "id": "LnplsZ4h9jr3"
      },
      "outputs": [],
      "source": [
        "# PolynomiaFeatures로 전처리한 다항회귀 결과 확인\n",
        "\n",
        "lr = LinearRegression()\n",
        "lr.fit(poly_x, data_y)\n",
        "\n",
        "a, b, c = *lr.coef_, lr.intercept_\n",
        "print(\"y = {:.2f}x**2 +{:.2f}x+{:.2f}\".format(b, a, c))\n",
        "\n",
        "x = np.arange(0, 6, 0.1)\n",
        "y = b*x**2 + a*x + c\n",
        "\n",
        "plt.plot(x, y)\n",
        "plt.scatter(data_x, data_y, c = 'red')\n",
        "plt.scatter([4], [17], marker='^', c = 'gold')\n",
        "plt.scatter([5], [26], marker='^', c = 'gold')\n",
        "plt.show()"
      ]
    },
    {
      "cell_type": "code",
      "execution_count": null,
      "metadata": {
        "id": "ivomOIcl9jr3"
      },
      "outputs": [],
      "source": [
        "# 추정해보기 : 다항특성(Polynomial Features) 실행 예제\n",
        "\n",
        "from sklearn.preprocessing import PolynomialFeatures\n",
        "\n",
        "input = [[2, 3],\n",
        "         [4, 5]]\n",
        "\n",
        "print('1. 기본 변환 (degree = 2, include_bias = True)')\n",
        "poly = PolynomialFeatures()\n",
        "poly.fit(input)\n",
        "poly_output = poly.transform(input)\n",
        "print(poly_output)\n",
        "\n",
        "print('\\n 2. include_bias 변경 : False')\n",
        "poly_f = PolynomialFeatures(include_bias = False)\n",
        "poly_f.fit(input)\n",
        "poly_f_output = poly_f.transform(input)\n",
        "print(poly_f_output)\n",
        "\n",
        "print('\\n 3. degree 변경 : 3, include_bias = False')\n",
        "poly_3_f = PolynomialFeatures(degree=3, include_bias=False)\n",
        "poly_3_f.fit(input)\n",
        "poly_3_f_output = poly_3_f.transform(input)\n",
        "print(poly_3_f_output)\n"
      ]
    },
    {
      "cell_type": "markdown",
      "metadata": {
        "id": "VVSI6qdH9jr4"
      },
      "source": [
        "# 2개 이상의 속성을 입력하여 근사하는 방법?\n",
        "![fish.png](http://epsilondelt4.dothome.co.kr/img/fish.png)\n",
        "\n",
        "# 다중회귀\n",
        "\n",
        "* 여러 개의 특성을 사용한 선형회귀\n",
        "![feat.png](http://epsilondelt4.dothome.co.kr/img/feat.png)\n",
        "\n",
        "* 다중-다항 회귀\n",
        "\n",
        "![feat.png](http://epsilondelt4.dothome.co.kr/img/curve.png)"
      ]
    },
    {
      "cell_type": "markdown",
      "metadata": {
        "id": "5H0uNpmm9jr4"
      },
      "source": [
        "# 농어 무게 추정 문제\n",
        "* 입력 속성 : 길이, 높이, 두께\n",
        "* 다항 속성 (2차) :\n",
        "* [1, 2, 3] ---->\n",
        "\n",
        "$L( x_{i1}, x_{i2}, \\cdots, x_{i9}) =  \\beta_0 + \\beta_1 x_{i1} + \\cdots + \\beta_9 x_{i9}  = \\sum_{j=0}^{9} \\beta_j x_{ij}$\n",
        "\n",
        "\n",
        "$ \\rm{minRSS} = \\rm{min} \\{ \\sum_{i = 1} ^ n({y_i} - L(\n",
        "  {x_i}))^2 \\}$\n"
      ]
    },
    {
      "cell_type": "markdown",
      "metadata": {
        "id": "Go2B3vCJ9jr4"
      },
      "source": [
        "## 데이터 준비 : 판다스 pandas\n",
        "* 데이터 분석 라이브러리\n",
        "* 핵심구조 데이터프레임(dataframe)\n",
        "* csv 파일을 간단하게 읽을 수 있는 메소드 제공\n",
        "![](img/readcsv.png)"
      ]
    },
    {
      "cell_type": "code",
      "execution_count": null,
      "metadata": {
        "id": "Ach9GCw39jr5"
      },
      "outputs": [],
      "source": [
        "import pandas as pd\n",
        "df = pd.read_csv('https://bit.ly/perch_csv_data')\n",
        "df[:10]"
      ]
    },
    {
      "cell_type": "code",
      "execution_count": null,
      "metadata": {
        "id": "awq2DLcE9jr5"
      },
      "outputs": [],
      "source": [
        "# 타깃 데이터 준비 (http://bit.ly/perch_data)\n",
        "\n",
        "import numpy as np\n",
        "perch_weight = np.array([5.9, 32.0, 40.0, 51.5, 70.0, 100.0, 78.0, 80.0, 85.0, 85.0, 110.0,\n",
        "115.0, 125.0, 130.0, 120.0, 120.0, 130.0, 135.0, 110.0, 130.0,\n",
        "150.0, 145.0, 150.0, 170.0, 225.0, 145.0, 188.0, 180.0, 197.0,\n",
        "218.0, 300.0, 260.0, 265.0, 250.0, 250.0, 300.0, 320.0, 514.0,\n",
        "556.0, 840.0, 685.0, 700.0, 700.0, 690.0, 900.0, 650.0, 820.0,\n",
        "850.0, 900.0, 1015.0, 820.0, 1100.0, 1000.0, 1100.0, 1000.0,\n",
        "1000.0])"
      ]
    },
    {
      "cell_type": "code",
      "execution_count": null,
      "metadata": {
        "id": "gYF3p28J9jr5"
      },
      "outputs": [],
      "source": [
        "# 훈련 세트와 테스트 세트로 나누기\n",
        "\n",
        "from sklearn.model_selection import train_test_split\n",
        "train_input, test_input, train_target, test_target = train_test_split(\n",
        "    df, perch_weight, random_state = 42\n",
        ")"
      ]
    },
    {
      "cell_type": "code",
      "execution_count": null,
      "metadata": {
        "id": "E20yjMiW9jr5"
      },
      "outputs": [],
      "source": [
        "# 다항 특성 추가\n",
        "\n",
        "poly = PolynomialFeatures(include_bias=False)\n",
        "poly.fit(train_input)\n",
        "train_poly = poly.transform(train_input)\n",
        "print(train_poly.shape)\n",
        "print(train_poly[0])"
      ]
    },
    {
      "cell_type": "code",
      "execution_count": null,
      "metadata": {
        "id": "gKbIg6Bh9jr6"
      },
      "outputs": [],
      "source": [
        "test_poly = poly.transform(test_input)"
      ]
    },
    {
      "cell_type": "code",
      "execution_count": null,
      "metadata": {
        "id": "FXdacs0r9jr6"
      },
      "outputs": [],
      "source": [
        "# 다중 회귀 모델 훈련하기\n",
        "\n",
        "from sklearn.linear_model import LinearRegression\n",
        "lr = LinearRegression()\n",
        "lr.fit(train_poly, train_target)\n",
        "print(lr.score(train_poly, train_target))"
      ]
    },
    {
      "cell_type": "code",
      "execution_count": null,
      "metadata": {
        "id": "5T-OMzdg9jr6"
      },
      "outputs": [],
      "source": [
        "print(lr.score(test_poly, test_target))"
      ]
    },
    {
      "cell_type": "code",
      "execution_count": null,
      "metadata": {
        "id": "1bTuBqxq9jr6"
      },
      "outputs": [],
      "source": [
        "# 특성 개수에 따른 과대적합 문제\n",
        "\n",
        "poly = PolynomialFeatures(degree=5, include_bias=False)\n",
        "poly.fit(train_input)\n",
        "train_poly = poly.transform(train_input)\n",
        "test_poly = poly.transform(test_input)\n",
        "print(train_poly.shape)"
      ]
    },
    {
      "cell_type": "code",
      "execution_count": null,
      "metadata": {
        "id": "l5hR3V4N9jr7"
      },
      "outputs": [],
      "source": [
        "lr.fit(train_poly, train_target)\n",
        "print(lr.score(train_poly, train_target))"
      ]
    },
    {
      "cell_type": "code",
      "execution_count": null,
      "metadata": {
        "id": "hEXZniFI9jr7"
      },
      "outputs": [],
      "source": [
        "print(lr.score(test_poly, test_target))"
      ]
    },
    {
      "cell_type": "markdown",
      "metadata": {
        "id": "kWMrlmyF9jr7"
      },
      "source": [
        "# 규제 (regularization)\n",
        "\n",
        "* 과대적합되지 않도록 계수(기울기)의 크기를 작게 만드는 일\n",
        "![reg.png](http://epsilondelt4.dothome.co.kr/img/reg.png)"
      ]
    },
    {
      "cell_type": "markdown",
      "metadata": {
        "id": "t1muORbN9jr7"
      },
      "source": [
        "$ \\rm{RSS}(잔차제곱합) =   \\sum_{i = 1} ^ n(y_i - (\\beta_0 + \\beta_1x_{i1}+ \\beta_2x_{i2}))^2 $\n",
        "\n",
        "\n",
        "$\\phantom{RSS(잔차제곱합)}= A\\beta_1^2 + B\\beta_1\\beta_2 + C\\beta_2^2 + D\\beta_1 +E\\beta_2 +F$\n",
        "\n",
        "* 기하학적 의미 : RSS를 최소화 하는데 제한 조건(범위)을 거는 것\n",
        "    * 예1 : $ \\beta_1 ^2 + \\beta_2 ^2 < r^2 $ (릿지)\n",
        "    * 예2 : $ |\\beta_1 | + |\\beta_2 | < r $ (라쏘)\n",
        "* 대수적 풀이\n",
        "    * 예1 : $\\rm{min} \\[ RSS + \\lambda(\\beta_1 ^2 + \\beta_2 ^2)\\]$ (릿지)\n",
        "    * 예2 : $\\rm{min} \\[ RSS + \\lambda(|\\beta_1 | + |\\beta_2 |)\\]$ (라쏘)\n",
        "\n",
        "![lssrg.img](http://epsilondelt4.dothome.co.kr/img/lssrg.png)"
      ]
    },
    {
      "cell_type": "code",
      "execution_count": null,
      "metadata": {
        "id": "a-lTaCE19jr7"
      },
      "outputs": [],
      "source": [
        "# 공정한 제어를 위해 정규화\n",
        "\n",
        "from sklearn.preprocessing import StandardScaler\n",
        "ss = StandardScaler()\n",
        "ss.fit(train_poly)\n",
        "train_scaled = ss.transform(train_poly)\n",
        "test_scaled = ss.transform(test_poly)"
      ]
    },
    {
      "cell_type": "code",
      "execution_count": null,
      "metadata": {
        "id": "4teynKyY9jr8"
      },
      "outputs": [],
      "source": [
        "# 릿지 회귀\n",
        "\n",
        "from sklearn.linear_model import Ridge\n",
        "ridge = Ridge()\n",
        "ridge.fit(train_scaled, train_target)\n",
        "print(ridge.score(train_scaled, train_target))"
      ]
    },
    {
      "cell_type": "code",
      "execution_count": null,
      "metadata": {
        "id": "7vWFeOp49jr8"
      },
      "outputs": [],
      "source": [
        "print(ridge.score(test_scaled, test_target))"
      ]
    },
    {
      "cell_type": "markdown",
      "metadata": {
        "id": "JTIc3DpX9jr8"
      },
      "source": [
        "# Ridge 규제 강도의 설정 : alpha 값\n",
        "* Ridge 클래스의 매개변수로 사전에 지정해야하는 **하이퍼파라미터**\n",
        "* alpha 가 커질수록 규제가 커짐\n",
        "* 방법 : alpha 에 대한 R $^2$값의 그래프를 관찰 --> train과 test 점수가 가장 가까워지는 alpha값 추출"
      ]
    },
    {
      "cell_type": "code",
      "execution_count": null,
      "metadata": {
        "id": "a4aeOrl99jr8"
      },
      "outputs": [],
      "source": [
        "import matplotlib.pyplot as plt\n",
        "\n",
        "train_score = []\n",
        "test_score = []\n",
        "\n",
        "\n",
        "alpha_list = [0.001, 0.01, 0.1, 1, 10, 100]\n",
        "for alpha in alpha_list:\n",
        "    # 각 alpha값에 따른 릿지 객체 생성\n",
        "    ridge = Ridge(alpha=alpha)\n",
        "    # 릿지 훈련\n",
        "    ridge.fit(train_scaled, train_target)\n",
        "    # 훈련 점수와 테스트 점수 저장\n",
        "    train_score.append(ridge.score(train_scaled, train_target))\n",
        "    test_score.append(ridge.score(test_scaled, test_target))\n"
      ]
    },
    {
      "cell_type": "code",
      "execution_count": null,
      "metadata": {
        "id": "AZ8Sm66Q9jr9"
      },
      "outputs": [],
      "source": [
        "plt.plot(np.log10(alpha_list), train_score)\n",
        "plt.plot(np.log10(alpha_list), test_score)\n",
        "plt.xlabel('alpha')\n",
        "plt.ylabel('R^2')\n",
        "plt.show"
      ]
    },
    {
      "cell_type": "code",
      "execution_count": null,
      "metadata": {
        "id": "u5xCApln9jr9"
      },
      "outputs": [],
      "source": [
        "ridge = Ridge(alpha = 0.1)\n",
        "ridge.fit(train_scaled, train_target)\n",
        "print(ridge.score(train_scaled, train_target))\n",
        "print(ridge.score(test_scaled, test_target))"
      ]
    },
    {
      "cell_type": "code",
      "execution_count": null,
      "metadata": {
        "id": "vONYNAm09jr9"
      },
      "outputs": [],
      "source": [
        "# (추가) 미세 최적화\n",
        "\n",
        "train_score = []\n",
        "test_score = []\n",
        "alpha_list = np.arange(0.01, 0.2, 0.01)\n",
        "\n",
        "print(alpha_list)\n",
        "\n",
        "for alpha in alpha_list:\n",
        "    ridge = Ridge(alpha=alpha)\n",
        "    ridge.fit(train_scaled, train_target)\n",
        "    train_score.append(ridge.score(train_scaled, train_target))\n",
        "    test_score.append(ridge.score(test_scaled, test_target))"
      ]
    },
    {
      "cell_type": "code",
      "execution_count": null,
      "metadata": {
        "id": "7_71PJyK9jr9"
      },
      "outputs": [],
      "source": [
        "plt.plot(alpha_list, train_score)\n",
        "plt.plot(alpha_list, test_score)\n",
        "plt.xlabel('alpha')\n",
        "plt.ylabel('R^2')\n",
        "plt.show"
      ]
    },
    {
      "cell_type": "code",
      "execution_count": null,
      "metadata": {
        "id": "EaZt07PE9jr-"
      },
      "outputs": [],
      "source": [
        "ridge = Ridge(alpha = 0.03)\n",
        "ridge.fit(train_scaled, train_target)\n",
        "print(ridge.score(train_scaled, train_target))\n",
        "print(ridge.score(test_scaled, test_target))"
      ]
    },
    {
      "cell_type": "code",
      "execution_count": null,
      "metadata": {
        "id": "DG4kffF29jr-"
      },
      "outputs": [],
      "source": [
        "# 라쏘회귀\n",
        "\n",
        "from sklearn.linear_model import Lasso\n",
        "lasso = Lasso()\n",
        "lasso.fit(train_scaled, train_target)\n",
        "print(lasso.score(train_scaled, train_target))\n",
        "print(lasso.score(test_scaled, test_target))"
      ]
    },
    {
      "cell_type": "code",
      "execution_count": null,
      "metadata": {
        "id": "VyNyz-ir9jr-"
      },
      "outputs": [],
      "source": [
        "train_score = []\n",
        "test_score = []\n",
        "alpha_list = [0.001, 0.01, 0.1, 1, 10, 100]\n",
        "\n",
        "for alpha in alpha_list:\n",
        "    # 각 alpha값에 따른 라쏘 모델 설정\n",
        "    lasso = Lasso(alpha=alpha, max_iter=10000)\n",
        "    # 라쏘 모델을 훈련\n",
        "    lasso.fit(train_scaled, train_target)\n",
        "    # 훈련 점수와 테스트 점수를 저장\n",
        "    train_score.append(lasso.score(train_scaled, train_target))\n",
        "    test_score.append(lasso.score(test_scaled, test_target))"
      ]
    },
    {
      "cell_type": "code",
      "execution_count": null,
      "metadata": {
        "id": "IPbVFnPs9jr_"
      },
      "outputs": [],
      "source": [
        "plt.plot(np.log10(alpha_list), train_score)\n",
        "plt.plot(np.log10(alpha_list), test_score)\n",
        "plt.xlabel('alpha')\n",
        "plt.ylabel('R^2')\n",
        "plt.show()"
      ]
    },
    {
      "cell_type": "code",
      "execution_count": null,
      "metadata": {
        "id": "q0TOpe7M9jr_"
      },
      "outputs": [],
      "source": [
        "\n",
        "lasso = Lasso(alpha=10)\n",
        "lasso.fit(train_scaled, train_target)\n",
        "print(lasso.score(train_scaled, train_target))\n",
        "print(lasso.score(test_scaled, test_target))"
      ]
    }
  ],
  "metadata": {
    "kernelspec": {
      "display_name": ".venv",
      "language": "python",
      "name": "python3"
    },
    "language_info": {
      "codemirror_mode": {
        "name": "ipython",
        "version": 3
      },
      "file_extension": ".py",
      "mimetype": "text/x-python",
      "name": "python",
      "nbconvert_exporter": "python",
      "pygments_lexer": "ipython3",
      "version": "3.9.6"
    },
    "colab": {
      "provenance": [],
      "include_colab_link": true
    }
  },
  "nbformat": 4,
  "nbformat_minor": 0
}